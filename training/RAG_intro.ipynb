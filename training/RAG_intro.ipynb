{
 "cells": [
  {
   "cell_type": "markdown",
   "id": "f47bb49e",
   "metadata": {},
   "source": [
    "## Training for RAG"
   ]
  },
  {
   "cell_type": "markdown",
   "id": "6a2ebc47",
   "metadata": {},
   "source": [
    "### Import Packages"
   ]
  },
  {
   "cell_type": "code",
   "execution_count": 2,
   "id": "e1df9254",
   "metadata": {},
   "outputs": [],
   "source": [
    "\n",
    "from dotenv import load_dotenv\n",
    "from langchain.chat_models import init_chat_model\n",
    "from langchain_core.prompts import ChatPromptTemplate\n",
    "from pydantic import BaseModel, Field\n",
    "from typing_extensions import TypedDict\n",
    "from typing import List, Annotated\n",
    "\n",
    "from langgraph.graph import StateGraph, START, END\n",
    "from langgraph.graph.message import add_messages\n",
    "from langgraph.prebuilt import InjectedState\n",
    "from langgraph.checkpoint.memory import MemorySaver\n",
    "from IPython.display import Image, display, Markdown\n",
    "\n",
    "import requests\n",
    "import os\n",
    "from dotenv import load_dotenv\n",
    "from typing import Optional\n",
    "from pprint import pprint\n"
   ]
  },
  {
   "cell_type": "code",
   "execution_count": 3,
   "id": "67fa768d",
   "metadata": {},
   "outputs": [
    {
     "data": {
      "text/plain": [
       "True"
      ]
     },
     "execution_count": 3,
     "metadata": {},
     "output_type": "execute_result"
    }
   ],
   "source": [
    "load_dotenv()"
   ]
  },
  {
   "cell_type": "markdown",
   "id": "9c2e3928",
   "metadata": {},
   "source": [
    "### Retrieval Augmented Generation for a Chatbot\n",
    "\n",
    "The objectives of this agent are:\n",
    "1. We have a corpus of business docs for different departments and we want to build a secure Role Based Access Controlled Chatbot that answers questions to employees' queries with relevant department specific data and does not infilterate the data across departments.\n",
    "2. Security is one crucial aspect of this project.\n",
    "\n",
    "The RAG will have 2 components -\n",
    "1. Indexing - we will feed the docs to vector database and index them\n",
    "2. Retrieval - As user ask questions, we query the similar data from vector db and add it to the prompt"
   ]
  },
  {
   "cell_type": "markdown",
   "id": "2134c08e",
   "metadata": {},
   "source": [
    "### Init the chat model"
   ]
  },
  {
   "cell_type": "code",
   "execution_count": 4,
   "id": "b9b04302",
   "metadata": {},
   "outputs": [],
   "source": [
    "model = init_chat_model(\"gemini-2.5-flash\", model_provider=\"google_genai\")"
   ]
  },
  {
   "cell_type": "code",
   "execution_count": 8,
   "id": "613a6cc9",
   "metadata": {},
   "outputs": [],
   "source": [
    "# this package is from google with langchain supported methods\n",
    "from langchain_google_genai import GoogleGenerativeAIEmbeddings\n",
    "\n",
    "embeddings = GoogleGenerativeAIEmbeddings(model=\"models/text-embedding-004\")"
   ]
  },
  {
   "cell_type": "markdown",
   "id": "6939f215",
   "metadata": {},
   "source": [
    "NOTE: \n",
    "gemeini api supports different `task_types` in embedding. The above langchain lib supports it by default so we don't need to set it explictly for RAG based tasks. [Check this official doc](https://python.langchain.com/docs/integrations/text_embedding/google_generative_ai/)"
   ]
  },
  {
   "cell_type": "code",
   "execution_count": 7,
   "id": "201e7d4c",
   "metadata": {},
   "outputs": [],
   "source": [
    "idx = embeddings.embed_query(\"Who am I?\")"
   ]
  },
  {
   "cell_type": "code",
   "execution_count": 9,
   "id": "2615251c",
   "metadata": {},
   "outputs": [
    {
     "data": {
      "text/plain": [
       "768"
      ]
     },
     "execution_count": 9,
     "metadata": {},
     "output_type": "execute_result"
    }
   ],
   "source": [
    "len(idx)"
   ]
  },
  {
   "cell_type": "markdown",
   "id": "13f8d8a8",
   "metadata": {},
   "source": [
    "### Init the Vector Database"
   ]
  },
  {
   "cell_type": "code",
   "execution_count": 15,
   "id": "ca6b5b28",
   "metadata": {},
   "outputs": [],
   "source": [
    "from langchain_chroma import Chroma\n",
    "\n",
    "vector_store = Chroma(\n",
    "    collection_name=\"documentation\",\n",
    "    embedding_function=embeddings,\n",
    "    persist_directory=\"./chroma_db\" # we need to put it in the backend\n",
    ")"
   ]
  },
  {
   "cell_type": "markdown",
   "id": "067d60fd",
   "metadata": {},
   "source": [
    "### Indexing raw docs\n",
    "\n",
    "1. Load the documents (which are in different format `.md` and `.csv`)\n",
    "2. Split it into smaller meaningful chunks\n",
    "3. Index in ChromaDB\n",
    "\n",
    "[Load Markdown](https://python.langchain.com/docs/how_to/document_loader_markdown/)"
   ]
  },
  {
   "cell_type": "code",
   "execution_count": 16,
   "id": "faceaad4",
   "metadata": {},
   "outputs": [],
   "source": [
    "from langchain_community.document_loaders import UnstructuredMarkdownLoader, CSVLoader"
   ]
  },
  {
   "cell_type": "code",
   "execution_count": 17,
   "id": "c58120e0",
   "metadata": {},
   "outputs": [],
   "source": [
    "markdown_loader = UnstructuredMarkdownLoader(\n",
    "    file_path=\"data/engineering/engineering_master_doc.md\", mode=\"elements\")\n",
    "\n",
    "docs = markdown_loader.load()"
   ]
  },
  {
   "cell_type": "code",
   "execution_count": 12,
   "id": "ac79b1a7",
   "metadata": {},
   "outputs": [
    {
     "data": {
      "text/plain": [
       "573"
      ]
     },
     "execution_count": 12,
     "metadata": {},
     "output_type": "execute_result"
    }
   ],
   "source": [
    "len(docs)"
   ]
  },
  {
   "cell_type": "code",
   "execution_count": 21,
   "id": "fdda72e4",
   "metadata": {},
   "outputs": [
    {
     "name": "stdout",
     "output_type": "stream",
     "text": [
      "Document(metadata={'source': 'data/engineering/engineering_master_doc.md', 'languages': ['eng'], 'file_directory': 'data/engineering', 'filename': 'engineering_master_doc.md', 'filetype': 'text/markdown', 'last_modified': '2025-07-12T15:19:27', 'parent_id': '131718987add1083e37146e6cf1491dd', 'category': 'NarrativeText', 'element_id': '40cfe29cd980e28cda6a9e4376c53a2d'}, page_content='FinSolve Technologies is a leading FinTech company headquartered in Bangalore, India, with operations across North America, Europe, and Asia-Pacific. Founded in 2018, FinSolve provides innovative financial solutions, including digital banking, payment processing, wealth management, and enterprise financial analytics, serving over 2 million individual users and 10,000 businesses globally.')\n"
     ]
    }
   ],
   "source": [
    "pprint(docs[3])"
   ]
  },
  {
   "cell_type": "markdown",
   "id": "64af347a",
   "metadata": {},
   "source": [
    "### Embed and store in vector db\n",
    "\n",
    "NOTE:\n",
    "The `chromadb` throws an error if you try adding raw documents, since their metadata have lists which is not supported. So we need to clear the metadata. Additionaly, we need to add some special data in metadata to support RBAC requirement."
   ]
  },
  {
   "cell_type": "code",
   "execution_count": 18,
   "id": "d25e7daa",
   "metadata": {},
   "outputs": [
    {
     "name": "stdout",
     "output_type": "stream",
     "text": [
      "Original doc type: <class 'langchain_core.documents.base.Document'>\n",
      "Original metadata: {'source': 'data/engineering/engineering_master_doc.md', 'category_depth': 0, 'languages': ['eng'], 'file_directory': 'data/engineering', 'filename': 'engineering_master_doc.md', 'filetype': 'text/markdown', 'last_modified': '2025-07-12T15:19:27', 'category': 'Title', 'element_id': 'a9818428aac624384a9da60690636112'}\n",
      "Original doc type: <class 'langchain_core.documents.base.Document'>\n",
      "Original metadata: {'source': 'data/engineering/engineering_master_doc.md', 'category_depth': 1, 'languages': ['eng'], 'file_directory': 'data/engineering', 'filename': 'engineering_master_doc.md', 'filetype': 'text/markdown', 'last_modified': '2025-07-12T15:19:27', 'parent_id': 'a9818428aac624384a9da60690636112', 'category': 'Title', 'element_id': 'f963a63a1a2de90bdc2e356d9f0edc35'}\n",
      "Original doc type: <class 'langchain_core.documents.base.Document'>\n",
      "Original metadata: {'source': 'data/engineering/engineering_master_doc.md', 'category_depth': 2, 'languages': ['eng'], 'file_directory': 'data/engineering', 'filename': 'engineering_master_doc.md', 'filetype': 'text/markdown', 'last_modified': '2025-07-12T15:19:27', 'parent_id': 'f963a63a1a2de90bdc2e356d9f0edc35', 'category': 'Title', 'element_id': '131718987add1083e37146e6cf1491dd'}\n",
      "Original doc type: <class 'langchain_core.documents.base.Document'>\n",
      "Original metadata: {'source': 'data/engineering/engineering_master_doc.md', 'languages': ['eng'], 'file_directory': 'data/engineering', 'filename': 'engineering_master_doc.md', 'filetype': 'text/markdown', 'last_modified': '2025-07-12T15:19:27', 'parent_id': '131718987add1083e37146e6cf1491dd', 'category': 'NarrativeText', 'element_id': '40cfe29cd980e28cda6a9e4376c53a2d'}\n"
     ]
    }
   ],
   "source": [
    "from langchain_community.vectorstores.utils import filter_complex_metadata\n",
    "\n",
    "filtered_docs = []\n",
    "\n",
    "for doc in docs[:4]:  # Process more documents for testing\n",
    "    print(f\"Original doc type: {type(doc)}\")\n",
    "    print(f\"Original metadata: {doc.metadata}\")\n",
    "\n",
    "\n",
    "    # Add simple metadata for RBAC\n",
    "    doc.metadata[\"department\"] = \"engineering\"\n",
    "    doc.metadata[\"source_file\"] = \"engineering_master_doc.md\"\n",
    "    doc.metadata[\"access_level\"] = \"engineering_team\"\n",
    "    filtered_docs.append(doc)\n",
    "\n",
    "# filtered_docs"
   ]
  },
  {
   "cell_type": "code",
   "execution_count": 19,
   "id": "7e1f2fd9",
   "metadata": {},
   "outputs": [],
   "source": [
    "# try one embedding and test it before doing for all.\n",
    "# this method will call embedding function from LLM and generate vector embeddings and store it\n",
    "\n",
    "doc_ids = vector_store.add_documents(filter_complex_metadata(filtered_docs))"
   ]
  },
  {
   "cell_type": "code",
   "execution_count": 20,
   "id": "bf8498b9",
   "metadata": {},
   "outputs": [
    {
     "name": "stdout",
     "output_type": "stream",
     "text": [
      "['34f1342e-735c-4b8e-bfe8-00701ddc8654', 'c19e7484-36fe-4c9b-97ec-28873e07aec0', 'd8259a1f-ec2b-40f7-904d-41e7898a3048', 'bd368ca6-00ba-4108-9912-3b87b727f515']\n"
     ]
    }
   ],
   "source": [
    "print(doc_ids)"
   ]
  },
  {
   "cell_type": "code",
   "execution_count": 39,
   "id": "0c410680",
   "metadata": {},
   "outputs": [
    {
     "data": {
      "text/plain": [
       "[Document(id='a6144b78-a2b4-4848-b5b7-068329bd159d', metadata={'access_level': 'engineering_team', 'filetype': 'text/markdown', 'element_id': '40cfe29cd980e28cda6a9e4376c53a2d', 'file_directory': 'data/engineering', 'department': 'engineering', 'filename': 'engineering_master_doc.md', 'last_modified': '2025-07-12T15:19:27', 'parent_id': '131718987add1083e37146e6cf1491dd', 'source': 'data/engineering/engineering_master_doc.md', 'category': 'NarrativeText', 'source_file': 'engineering_master_doc.md'}, page_content='FinSolve Technologies is a leading FinTech company headquartered in Bangalore, India, with operations across North America, Europe, and Asia-Pacific. Founded in 2018, FinSolve provides innovative financial solutions, including digital banking, payment processing, wealth management, and enterprise financial analytics, serving over 2 million individual users and 10,000 businesses globally.')]"
      ]
     },
     "execution_count": 39,
     "metadata": {},
     "output_type": "execute_result"
    }
   ],
   "source": [
    "vector_store.get_by_ids(['a6144b78-a2b4-4848-b5b7-068329bd159d'])"
   ]
  },
  {
   "cell_type": "code",
   "execution_count": 21,
   "id": "51967b89",
   "metadata": {},
   "outputs": [
    {
     "data": {
      "text/plain": [
       "[Document(id='bd368ca6-00ba-4108-9912-3b87b727f515', metadata={'source_file': 'engineering_master_doc.md', 'filename': 'engineering_master_doc.md', 'parent_id': '131718987add1083e37146e6cf1491dd', 'file_directory': 'data/engineering', 'last_modified': '2025-07-12T15:19:27', 'access_level': 'engineering_team', 'department': 'engineering', 'element_id': '40cfe29cd980e28cda6a9e4376c53a2d', 'category': 'NarrativeText', 'filetype': 'text/markdown', 'source': 'data/engineering/engineering_master_doc.md'}, page_content='FinSolve Technologies is a leading FinTech company headquartered in Bangalore, India, with operations across North America, Europe, and Asia-Pacific. Founded in 2018, FinSolve provides innovative financial solutions, including digital banking, payment processing, wealth management, and enterprise financial analytics, serving over 2 million individual users and 10,000 businesses globally.')]"
      ]
     },
     "execution_count": 21,
     "metadata": {},
     "output_type": "execute_result"
    }
   ],
   "source": [
    "vector_store.similarity_search(query=\"When was FinSolve founded?\", k=1)"
   ]
  },
  {
   "cell_type": "code",
   "execution_count": 43,
   "id": "d70e68ed",
   "metadata": {},
   "outputs": [],
   "source": [
    "res = vector_store.get(limit=2, include=[\"embeddings\", \"documents\"])"
   ]
  },
  {
   "cell_type": "code",
   "execution_count": 44,
   "id": "0749b4e1",
   "metadata": {},
   "outputs": [
    {
     "data": {
      "text/plain": [
       "array([ 0.02460302, -0.01240093, -0.03797761,  0.00284989,  0.05209341])"
      ]
     },
     "execution_count": 44,
     "metadata": {},
     "output_type": "execute_result"
    }
   ],
   "source": [
    "res['embeddings'][0][:5]"
   ]
  },
  {
   "cell_type": "markdown",
   "id": "37571007",
   "metadata": {},
   "source": [
    "## Test the LLM response without RAG\n",
    "Our LLM guru does not know about this fictious company so it will either\n",
    "1. fail gracefully\n",
    "2. or hallucinate"
   ]
  },
  {
   "cell_type": "code",
   "execution_count": 45,
   "id": "6f360707",
   "metadata": {},
   "outputs": [
    {
     "data": {
      "text/plain": [
       "'I cannot find any publicly available information about a company called \"FinSolve\" or its founding date.\\n\\nIt\\'s possible:\\n* The company is very new and information hasn\\'t been widely published yet.\\n* It\\'s a private company that doesn\\'t widely disclose this information.\\n* The name might be slightly different.\\n\\nCould you provide any more details or confirm the spelling?'"
      ]
     },
     "execution_count": 45,
     "metadata": {},
     "output_type": "execute_result"
    }
   ],
   "source": [
    "response = model.invoke(\"When was FinSolve founded?\")\n",
    "response.content"
   ]
  },
  {
   "cell_type": "markdown",
   "id": "89366eb6",
   "metadata": {},
   "source": [
    "Now our `RAG` system will come into picture."
   ]
  },
  {
   "cell_type": "code",
   "execution_count": 46,
   "id": "aab667ff",
   "metadata": {},
   "outputs": [
    {
     "data": {
      "text/plain": [
       "'FinSolve Technologies was founded in 2018. It is a leading FinTech company headquartered in Bangalore, India. FinSolve provides innovative financial solutions globally.'"
      ]
     },
     "execution_count": 46,
     "metadata": {},
     "output_type": "execute_result"
    }
   ],
   "source": [
    "# we can create a teplate for prompt\n",
    "prompt_temp = \"\"\"\n",
    "You are an assistant for question-answering tasks. Use the following pieces of retrieved context to answer the question. If you don't know the answer, just say that you don't know. Use three sentences maximum and keep the answer concise.\n",
    "Question: When was FinSolve founded?\n",
    "Context: FinSolve Technologies is a leading FinTech company headquartered in Bangalore, India, with operations across North America, Europe, and Asia-Pacific. Founded in 2018, FinSolve provides innovative financial solutions, including digital banking, payment processing, wealth management, and enterprise financial analytics, serving over 2 million individual users and 10,000 businesses globally.\n",
    "Answer:\n",
    "\"\"\"\n",
    "\n",
    "response = model.invoke(prompt_temp)\n",
    "response.content"
   ]
  },
  {
   "cell_type": "markdown",
   "id": "7615a285",
   "metadata": {},
   "source": [
    "### Role Based Retrieval\n",
    "\n",
    "Given a role of the user, we only retrive the data scoped to that role."
   ]
  },
  {
   "cell_type": "code",
   "execution_count": 24,
   "id": "3a015fa8",
   "metadata": {},
   "outputs": [
    {
     "data": {
      "text/plain": [
       "[Document(id='bd368ca6-00ba-4108-9912-3b87b727f515', metadata={'department': 'engineering', 'source': 'data/engineering/engineering_master_doc.md', 'parent_id': '131718987add1083e37146e6cf1491dd', 'source_file': 'engineering_master_doc.md', 'file_directory': 'data/engineering', 'filename': 'engineering_master_doc.md', 'element_id': '40cfe29cd980e28cda6a9e4376c53a2d', 'last_modified': '2025-07-12T15:19:27', 'access_level': 'engineering_team', 'category': 'NarrativeText', 'filetype': 'text/markdown'}, page_content='FinSolve Technologies is a leading FinTech company headquartered in Bangalore, India, with operations across North America, Europe, and Asia-Pacific. Founded in 2018, FinSolve provides innovative financial solutions, including digital banking, payment processing, wealth management, and enterprise financial analytics, serving over 2 million individual users and 10,000 businesses globally.')]"
      ]
     },
     "execution_count": 24,
     "metadata": {},
     "output_type": "execute_result"
    }
   ],
   "source": [
    "vector_store.similarity_search(\n",
    "    query=\"When was FinSolve founded?\", k=1, filter={\"access_level\": \"engineering_team\"})"
   ]
  }
 ],
 "metadata": {
  "kernelspec": {
   "display_name": "training",
   "language": "python",
   "name": "python3"
  },
  "language_info": {
   "codemirror_mode": {
    "name": "ipython",
    "version": 3
   },
   "file_extension": ".py",
   "mimetype": "text/x-python",
   "name": "python",
   "nbconvert_exporter": "python",
   "pygments_lexer": "ipython3",
   "version": "3.12.10"
  }
 },
 "nbformat": 4,
 "nbformat_minor": 5
}
