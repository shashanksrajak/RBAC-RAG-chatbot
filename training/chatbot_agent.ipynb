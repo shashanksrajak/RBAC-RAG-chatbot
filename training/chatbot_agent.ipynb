{
 "cells": [
  {
   "cell_type": "markdown",
   "id": "f47bb49e",
   "metadata": {},
   "source": [
    "## Building Chatbot"
   ]
  },
  {
   "cell_type": "markdown",
   "id": "6a2ebc47",
   "metadata": {},
   "source": [
    "### Import Packages"
   ]
  },
  {
   "cell_type": "code",
   "execution_count": 1,
   "id": "e1df9254",
   "metadata": {},
   "outputs": [],
   "source": [
    "\n",
    "from dotenv import load_dotenv\n",
    "from langchain.chat_models import init_chat_model\n",
    "from langchain_core.prompts import ChatPromptTemplate\n",
    "from pydantic import BaseModel, Field\n",
    "from typing_extensions import TypedDict\n",
    "from typing import List, Annotated\n",
    "\n",
    "from langgraph.graph import StateGraph, START, END\n",
    "from langgraph.graph.message import add_messages\n",
    "from langgraph.prebuilt import InjectedState\n",
    "from langgraph.checkpoint.memory import MemorySaver\n",
    "from IPython.display import Image, display, Markdown\n",
    "\n",
    "import requests\n",
    "import os\n",
    "from dotenv import load_dotenv\n",
    "from typing import Optional\n",
    "from pprint import pprint\n"
   ]
  },
  {
   "cell_type": "code",
   "execution_count": 2,
   "id": "67fa768d",
   "metadata": {},
   "outputs": [
    {
     "data": {
      "text/plain": [
       "True"
      ]
     },
     "execution_count": 2,
     "metadata": {},
     "output_type": "execute_result"
    }
   ],
   "source": [
    "load_dotenv()"
   ]
  },
  {
   "cell_type": "markdown",
   "id": "9c2e3928",
   "metadata": {},
   "source": [
    "### Retrieval Augmented Generation for a Chatbot\n",
    "\n",
    "The objectives of this agent are:\n",
    "1. We have a corpus of business docs for different departments and we want to build a secure Role Based Access Controlled Chatbot that answers questions to employees' queries with relevant department specific data and does not infilterate the data across departments.\n",
    "2. Security is one crucial aspect of this project.\n",
    "\n",
    "The RAG will have 2 components -\n",
    "1. Indexing - we will feed the docs to vector database and index them\n",
    "2. Retrieval - As user ask questions, we query the similar data from vector db and add it to the prompt"
   ]
  },
  {
   "cell_type": "markdown",
   "id": "2134c08e",
   "metadata": {},
   "source": [
    "### Init the chat model"
   ]
  },
  {
   "cell_type": "code",
   "execution_count": 3,
   "id": "b9b04302",
   "metadata": {},
   "outputs": [],
   "source": [
    "model = init_chat_model(\"gemini-2.5-flash\", model_provider=\"google_genai\")"
   ]
  },
  {
   "cell_type": "code",
   "execution_count": 4,
   "id": "613a6cc9",
   "metadata": {},
   "outputs": [],
   "source": [
    "# this package is from google with langchain supported methods\n",
    "from langchain_google_genai import GoogleGenerativeAIEmbeddings\n",
    "\n",
    "embeddings = GoogleGenerativeAIEmbeddings(model=\"models/text-embedding-004\")"
   ]
  },
  {
   "cell_type": "markdown",
   "id": "6939f215",
   "metadata": {},
   "source": [
    "NOTE: \n",
    "gemeini api supports different `task_types` in embedding. The above langchain lib supports it by default so we don't need to set it explictly for RAG based tasks. [Check this official doc](https://python.langchain.com/docs/integrations/text_embedding/google_generative_ai/)"
   ]
  },
  {
   "cell_type": "code",
   "execution_count": 5,
   "id": "201e7d4c",
   "metadata": {},
   "outputs": [],
   "source": [
    "idx = embeddings.embed_query(\"Who am I?\")"
   ]
  },
  {
   "cell_type": "code",
   "execution_count": 6,
   "id": "2615251c",
   "metadata": {},
   "outputs": [
    {
     "data": {
      "text/plain": [
       "768"
      ]
     },
     "execution_count": 6,
     "metadata": {},
     "output_type": "execute_result"
    }
   ],
   "source": [
    "len(idx)"
   ]
  },
  {
   "cell_type": "markdown",
   "id": "13f8d8a8",
   "metadata": {},
   "source": [
    "### Init the Vector Database"
   ]
  },
  {
   "cell_type": "code",
   "execution_count": 47,
   "id": "ca6b5b28",
   "metadata": {},
   "outputs": [],
   "source": [
    "from langchain_chroma import Chroma\n",
    "\n",
    "vector_store = Chroma(\n",
    "    collection_name=\"documentation\",\n",
    "    embedding_function=embeddings,\n",
    "    persist_directory=\"./vector_store_db\" # we need to put it in the backend\n",
    ")"
   ]
  },
  {
   "cell_type": "markdown",
   "id": "067d60fd",
   "metadata": {},
   "source": [
    "### Indexing raw docs\n",
    "\n",
    "1. Load the documents (which are in different format `.md` and `.csv`)\n",
    "2. Split it into smaller meaningful chunks\n",
    "3. Index in ChromaDB\n",
    "\n",
    "[Load Markdown](https://python.langchain.com/docs/how_to/document_loader_markdown/)"
   ]
  },
  {
   "cell_type": "code",
   "execution_count": 36,
   "id": "faceaad4",
   "metadata": {},
   "outputs": [],
   "source": [
    "from langchain_community.document_loaders import CSVLoader\n",
    "from langchain_text_splitters import MarkdownHeaderTextSplitter\n",
    "from langchain_community.vectorstores.utils import filter_complex_metadata"
   ]
  },
  {
   "cell_type": "code",
   "execution_count": 34,
   "id": "7d5bdf07",
   "metadata": {},
   "outputs": [],
   "source": [
    "def load_data_markdown(file_path: str, source_file: str, access_level: str):\n",
    "    # loading the markdownd files as Documents\n",
    "    with open(file_path, \"r\", encoding=\"utf-8\") as f:\n",
    "        markdown_content = f.read()\n",
    "        \n",
    "    print(\"Loaded markdown document: \", (markdown_content[:100]))\n",
    "    \n",
    "    # split markdown into meaningful semantic chunks\n",
    "    headers_to_split_on = [\n",
    "        (\"#\", \"Header 1\"),\n",
    "        (\"##\", \"Header 2\"),\n",
    "        (\"###\", \"Header 3\")\n",
    "    ]\n",
    "    \n",
    "    markdown_splitter = MarkdownHeaderTextSplitter(headers_to_split_on)\n",
    "    \n",
    "    docs = []\n",
    "\n",
    "    # Add simple metadata for RBAC\n",
    "    md_splits = markdown_splitter.split_text(markdown_content)\n",
    "    for split_doc in md_splits:\n",
    "        split_doc.metadata.update({\n",
    "            \"source_file\": source_file,\n",
    "            \"access_level\": access_level\n",
    "        })\n",
    "        docs.append(split_doc)\n",
    "    print(f\"Created {len(docs)} header-based sections\")\n",
    "    return docs\n"
   ]
  },
  {
   "cell_type": "code",
   "execution_count": 35,
   "id": "45e4655a",
   "metadata": {},
   "outputs": [
    {
     "name": "stdout",
     "output_type": "stream",
     "text": [
      "Loaded markdown document:  # FinSolve Technologies Engineering Document\n",
      "\n",
      "## 1. Introduction\n",
      "\n",
      "### 1.1 Company Overview\n",
      "FinSolve \n",
      "Created 33 header-based sections\n"
     ]
    }
   ],
   "source": [
    "file_path = \"data/engineering/engineering_master_doc.md\"\n",
    "source_file = \"engineering_master_doc.md\"\n",
    "access_level = \"engineering\"\n",
    "\n",
    "docs = load_data_markdown(file_path, source_file, access_level)"
   ]
  },
  {
   "cell_type": "code",
   "execution_count": 13,
   "id": "f7c6e4db",
   "metadata": {},
   "outputs": [
    {
     "data": {
      "text/plain": [
       "5"
      ]
     },
     "execution_count": 13,
     "metadata": {},
     "output_type": "execute_result"
    }
   ],
   "source": [
    "len(docs)"
   ]
  },
  {
   "cell_type": "code",
   "execution_count": 37,
   "id": "d422032a",
   "metadata": {},
   "outputs": [
    {
     "data": {
      "text/plain": [
       "Document(metadata={'Header 1': 'FinSolve Technologies Engineering Document', 'Header 2': '1. Introduction', 'Header 3': '1.1 Company Overview', 'source_file': 'engineering_master_doc.md', 'access_level': 'engineering'}, page_content='FinSolve Technologies is a leading FinTech company headquartered in Bangalore, India, with operations across North America, Europe, and Asia-Pacific. Founded in 2018, FinSolve provides innovative financial solutions, including digital banking, payment processing, wealth management, and enterprise financial analytics, serving over 2 million individual users and 10,000 businesses globally.')"
      ]
     },
     "execution_count": 37,
     "metadata": {},
     "output_type": "execute_result"
    }
   ],
   "source": [
    "docs[0]"
   ]
  },
  {
   "cell_type": "code",
   "execution_count": null,
   "id": "ba61b593",
   "metadata": {},
   "outputs": [],
   "source": [
    "doc_ids = vector_store.add_documents(documents=docs[:1])"
   ]
  },
  {
   "cell_type": "code",
   "execution_count": null,
   "id": "7f674c54",
   "metadata": {},
   "outputs": [],
   "source": [
    "# vector_store.similarity_search(\n",
    "#     query=\"Tell me?\", k=4, filter={\"access_level\": \"engineering\"})"
   ]
  },
  {
   "cell_type": "markdown",
   "id": "73db1929",
   "metadata": {},
   "source": [
    "[Markdown Text Spliting](https://python.langchain.com/docs/how_to/markdown_header_metadata_splitter/)"
   ]
  },
  {
   "cell_type": "code",
   "execution_count": 21,
   "id": "54077a31",
   "metadata": {},
   "outputs": [
    {
     "data": {
      "text/plain": [
       "[Document(metadata={'Header 1': 'Foo', 'Header 2': 'Bar'}, page_content='Hi this is Jim  \\nHi this is Joe'),\n",
       " Document(metadata={'Header 1': 'Foo', 'Header 2': 'Bar', 'Header 3': 'Boo'}, page_content='Hi this is Lance'),\n",
       " Document(metadata={'Header 1': 'Foo', 'Header 2': 'Baz'}, page_content='Hi this is Molly')]"
      ]
     },
     "execution_count": 21,
     "metadata": {},
     "output_type": "execute_result"
    }
   ],
   "source": [
    "from langchain_text_splitters import MarkdownHeaderTextSplitter\n",
    "\n",
    "markdown_document = \"# Foo\\n\\n    ## Bar\\n\\nHi this is Jim\\n\\nHi this is Joe\\n\\n ### Boo \\n\\n Hi this is Lance \\n\\n ## Baz\\n\\n Hi this is Molly\"\n",
    "\n",
    "\n",
    "headers_to_split_on = [\n",
    "    (\"#\", \"Header 1\"),\n",
    "    (\"##\", \"Header 2\"),\n",
    "    (\"###\", \"Header 3\"),\n",
    "]\n",
    "\n",
    "markdown_splitter = MarkdownHeaderTextSplitter(headers_to_split_on)\n",
    "md_header_splits = markdown_splitter.split_text(markdown_document)\n",
    "md_header_splits"
   ]
  },
  {
   "cell_type": "markdown",
   "id": "38a001e5",
   "metadata": {},
   "source": [
    "### CSV Loader and Indexing\n",
    "\n",
    "[Docs](https://python.langchain.com/api_reference/community/document_loaders/langchain_community.document_loaders.csv_loader.CSVLoader.html)"
   ]
  },
  {
   "cell_type": "code",
   "execution_count": 42,
   "id": "b920edb4",
   "metadata": {},
   "outputs": [],
   "source": [
    "loader = CSVLoader(file_path='data/hr/hr_data.csv',\n",
    "                   csv_args={\n",
    "                       'delimiter': ',',\n",
    "                    #    'quotechar': '\"',\n",
    "                    #    'fieldnames': ['Index', 'Height', 'Weight']\n",
    "                   })\n",
    "\n",
    "csv = loader.load()"
   ]
  },
  {
   "cell_type": "code",
   "execution_count": 45,
   "id": "b9fa937d",
   "metadata": {},
   "outputs": [
    {
     "name": "stdout",
     "output_type": "stream",
     "text": [
      "employee_id: FINEMP1000\n",
      "full_name: Aadhya Patel\n",
      "role: Sales Manager\n",
      "department: Sales\n",
      "email: aadhya.patel@fintechco.com\n",
      "location: Ahmedabad\n",
      "date_of_birth: 1991-04-03\n",
      "date_of_joining: 2018-11-20\n",
      "manager_id: FINEMP1006\n",
      "salary: 1332478.37\n",
      "leave_balance: 22\n",
      "leaves_taken: 11\n",
      "attendance_pct: 99.31\n",
      "performance_rating: 3\n",
      "last_review_date: 2024-05-21\n"
     ]
    }
   ],
   "source": [
    "print(csv[0].page_content)"
   ]
  },
  {
   "cell_type": "code",
   "execution_count": 46,
   "id": "e79114b2",
   "metadata": {},
   "outputs": [
    {
     "data": {
      "text/plain": [
       "['c1c4e59c-ad95-4418-b152-bded27696547']"
      ]
     },
     "execution_count": 46,
     "metadata": {},
     "output_type": "execute_result"
    }
   ],
   "source": [
    "csv_ids = vector_store.add_documents(csv[:1])\n",
    "csv_ids"
   ]
  },
  {
   "cell_type": "markdown",
   "id": "c800586a",
   "metadata": {},
   "source": [
    "### Load docs and index in vector db"
   ]
  },
  {
   "cell_type": "code",
   "execution_count": 49,
   "id": "2e3ac682",
   "metadata": {},
   "outputs": [],
   "source": [
    "# function to create splits and index in vector db\n",
    "\n",
    "markdown_docs = [\n",
    "    {\n",
    "        \"file_path\": \"data/engineering/engineering_master_doc.md\",\n",
    "        \"source_file\": \"engineering_master_doc.md\",\n",
    "        \"access_level\": \"engineering\"\n",
    "    },\n",
    "    {\n",
    "        \"file_path\": \"data/finance/financial_summary.md\",\n",
    "        \"source_file\": \"financial_summary.md\",\n",
    "        \"access_level\": \"finance\"\n",
    "    },\n",
    "    {\n",
    "        \"file_path\": \"data/finance/quarterly_financial_report.md\",\n",
    "        \"source_file\": \"quarterly_financial_report.md\",\n",
    "        \"access_level\": \"finance\"\n",
    "    },\n",
    "    {\n",
    "        \"file_path\": \"data/general/employee_handbook.md\",\n",
    "        \"source_file\": \"employee_handbook.md\",\n",
    "        \"access_level\": \"employee\"\n",
    "    },\n",
    "    {\n",
    "        \"file_path\": \"data/marketing/market_report_q4_2024.md\",\n",
    "        \"source_file\": \"market_report_q4_2024.md\",\n",
    "        \"access_level\": \"marketing\"\n",
    "    },\n",
    "    {\n",
    "        \"file_path\": \"data/marketing/marketing_report_2024.md\",\n",
    "        \"source_file\": \"marketing_report_2024.md\",\n",
    "        \"access_level\": \"marketing\"\n",
    "    },\n",
    "    {\n",
    "        \"file_path\": \"data/marketing/marketing_report_q1_2024.md\",\n",
    "        \"source_file\": \"marketing_report_q1_2024.md\",\n",
    "        \"access_level\": \"marketing\"\n",
    "    },\n",
    "    {\n",
    "        \"file_path\": \"data/marketing/marketing_report_q2_2024.md\",\n",
    "        \"source_file\": \"marketing_report_q2_2024.md\",\n",
    "        \"access_level\": \"marketing\"\n",
    "    },\n",
    "    {\n",
    "        \"file_path\": \"data/marketing/marketing_report_q3_2024.md\",\n",
    "        \"source_file\": \"marketing_report_q3_2024.md\",\n",
    "        \"access_level\": \"marketing\"\n",
    "    },\n",
    "]"
   ]
  },
  {
   "cell_type": "code",
   "execution_count": 51,
   "id": "3820ac9d",
   "metadata": {},
   "outputs": [
    {
     "name": "stdout",
     "output_type": "stream",
     "text": [
      "Loaded markdown document:  # FinSolve Technologies Engineering Document\n",
      "\n",
      "## 1. Introduction\n",
      "\n",
      "### 1.1 Company Overview\n",
      "FinSolve \n",
      "Created 33 header-based sections\n",
      "Loaded markdown document:  # Financial Report for FinSolve Technologies Inc. - 2024\n",
      "\n",
      "Executive Summary:\n",
      "-----------------------\n",
      "Created 1 header-based sections\n",
      "Loaded markdown document:  # Quarterly Financial Report - FinSolve Technologies Inc. 2024\n",
      "\n",
      "## Executive Summary\n",
      "In 2024, FinSol\n",
      "Created 20 header-based sections\n",
      "Loaded markdown document:  # Employee Handbook\n",
      "\n",
      "## Table of Contents\n",
      "1. [Welcome & Introduction](#welcome--introduction)\n",
      "2. [Em\n",
      "Created 55 header-based sections\n",
      "Loaded markdown document:  # Comprehensive Marketing Report - Q4 2024\n",
      "\n",
      "## Executive Summary\n",
      "The Q4 2024 marketing efforts were \n",
      "Created 11 header-based sections\n",
      "Loaded markdown document:  # Marketing Report for FinSolve Technologies Inc. - 2024\n",
      "\n",
      "Executive Summary:\n",
      "-----------------------\n",
      "Created 1 header-based sections\n",
      "Loaded markdown document:  # Comprehensive Marketing Report - Q1 2024\n",
      "\n",
      "## Executive Summary\n",
      "Q1 2024 marked a foundational quart\n",
      "Created 11 header-based sections\n",
      "Loaded markdown document:  # Comprehensive Marketing Report - Q2 2024\n",
      "\n",
      "## Executive Summary\n",
      "Q2 2024 was a pivotal quarter dedic\n",
      "Created 11 header-based sections\n",
      "Loaded markdown document:  # Comprehensive Marketing Report - Q3 2024\n",
      "\n",
      "## Executive Summary\n",
      "Q3 2024 marked a strategic focus on\n",
      "Created 11 header-based sections\n"
     ]
    }
   ],
   "source": [
    "for md_doc in markdown_docs:\n",
    "    # first load the markdown file get split chunks with proper metadata\n",
    "    docs = load_data_markdown(md_doc[\"file_path\"], md_doc[\"source_file\"], md_doc[\"access_level\"])\n",
    "    \n",
    "    # index in vector store\n",
    "    vector_store.add_documents(docs)\n",
    "    \n",
    "    "
   ]
  },
  {
   "cell_type": "code",
   "execution_count": 52,
   "id": "7840debb",
   "metadata": {},
   "outputs": [
    {
     "data": {
      "text/plain": [
       "[Document(id='5ab8d756-3394-433a-a4bc-f9eedf79094d', metadata={'Header 3': 'Cash Flow Analysis', 'access_level': 'finance', 'Header 2': 'Q2 - April to June 2024', 'Header 1': 'Quarterly Financial Report - FinSolve Technologies Inc. 2024', 'source_file': 'quarterly_financial_report.md'}, page_content='Cash flow trends remained positive, supporting growth initiatives:  \\n- **Cash Flow from Operations**: $350 million, up 12% YoY, driven by increased revenue and efficient collections.\\n- **Cash Flow from Investing**: $60 million, allocated to market entry efforts and product development.\\n- **Cash Flow from Financing**: $25 million, supporting market expansion through additional financing.')]"
      ]
     },
     "execution_count": 52,
     "metadata": {},
     "output_type": "execute_result"
    }
   ],
   "source": [
    "vector_store.similarity_search(\"Q1 result\", k=1)"
   ]
  },
  {
   "cell_type": "code",
   "execution_count": 55,
   "id": "e702aff2",
   "metadata": {},
   "outputs": [],
   "source": [
    "csv_data = [\n",
    "    {\n",
    "            \"file_path\": \"data/hr/hr_data.csv\",\n",
    "            \"source_file\": \"hr_data.csv\",\n",
    "            \"access_level\": \"hr\"   \n",
    "    }\n",
    "]"
   ]
  },
  {
   "cell_type": "code",
   "execution_count": 57,
   "id": "000811ba",
   "metadata": {},
   "outputs": [
    {
     "name": "stdout",
     "output_type": "stream",
     "text": [
      "page_content='employee_id: FINEMP1000\n",
      "full_name: Aadhya Patel\n",
      "role: Sales Manager\n",
      "department: Sales\n",
      "email: aadhya.patel@fintechco.com\n",
      "location: Ahmedabad\n",
      "date_of_birth: 1991-04-03\n",
      "date_of_joining: 2018-11-20\n",
      "manager_id: FINEMP1006\n",
      "salary: 1332478.37\n",
      "leave_balance: 22\n",
      "leaves_taken: 11\n",
      "attendance_pct: 99.31\n",
      "performance_rating: 3\n",
      "last_review_date: 2024-05-21' metadata={'source': 'data/hr/hr_data.csv', 'row': 0, 'source_file': 'hr_data.csv', 'access_level': 'hr'}\n"
     ]
    }
   ],
   "source": [
    "for file in csv_data:\n",
    "    loader = CSVLoader(file_path=file[\"file_path\"],\n",
    "                       csv_args={\n",
    "                           'delimiter': ',',\n",
    "                       })\n",
    "\n",
    "    csv = loader.load()\n",
    "    \n",
    "    docs = []\n",
    "    for csv_doc in csv:\n",
    "        csv_doc.metadata.update(\n",
    "            {\n",
    "                \"source_file\": file[\"source_file\"],\n",
    "                \"access_level\": file[\"access_level\"]\n",
    "            }\n",
    "        ) \n",
    "        docs.append(csv_doc)\n",
    "    \n",
    "    print(docs[0])\n",
    "    \n",
    "    # index in vector store\n",
    "    vector_store.add_documents(docs)"
   ]
  },
  {
   "cell_type": "code",
   "execution_count": 62,
   "id": "86c60da2",
   "metadata": {},
   "outputs": [
    {
     "data": {
      "text/plain": [
       "[Document(id='45acd5f7-7197-45f5-8eb2-11dc4223d311', metadata={'row': 0, 'access_level': 'hr', 'source_file': 'hr_data.csv', 'source': 'data/hr/hr_data.csv'}, page_content='employee_id: FINEMP1000\\nfull_name: Aadhya Patel\\nrole: Sales Manager\\ndepartment: Sales\\nemail: aadhya.patel@fintechco.com\\nlocation: Ahmedabad\\ndate_of_birth: 1991-04-03\\ndate_of_joining: 2018-11-20\\nmanager_id: FINEMP1006\\nsalary: 1332478.37\\nleave_balance: 22\\nleaves_taken: 11\\nattendance_pct: 99.31\\nperformance_rating: 3\\nlast_review_date: 2024-05-21'),\n",
       " Document(id='7c4aa5da-6358-4dfd-9a36-4ce5da036352', metadata={'row': 8, 'source_file': 'hr_data.csv', 'access_level': 'hr', 'source': 'data/hr/hr_data.csv'}, page_content='employee_id: FINEMP1008\\nfull_name: Aadhya Chowdhury\\nrole: Customer Support\\ndepartment: Operations\\nemail: aadhya.chowdhury@fintechco.com\\nlocation: Mumbai\\ndate_of_birth: 1977-06-18\\ndate_of_joining: 2019-02-12\\nmanager_id: FINEMP1007\\nsalary: 370315.98\\nleave_balance: 7\\nleaves_taken: 5\\nattendance_pct: 96.92\\nperformance_rating: 5\\nlast_review_date: 2024-08-07'),\n",
       " Document(id='c87cf32c-5801-4796-ba89-2f4b7c32650a', metadata={'row': 29, 'source': 'data/hr/hr_data.csv', 'access_level': 'hr', 'source_file': 'hr_data.csv'}, page_content='employee_id: FINEMP1029\\nfull_name: Aditya Patel\\nrole: Data Analyst\\ndepartment: Data\\nemail: aditya.patel@fintechco.com\\nlocation: Pune\\ndate_of_birth: 1997-06-28\\ndate_of_joining: 2020-01-17\\nmanager_id: FINEMP1009\\nsalary: 1128053.06\\nleave_balance: 23\\nleaves_taken: 11\\nattendance_pct: 97.48\\nperformance_rating: 2\\nlast_review_date: 2025-02-21'),\n",
       " Document(id='e22be25f-3759-4edb-9a7c-a9f3aba82880', metadata={'source': 'data/hr/hr_data.csv', 'access_level': 'hr', 'row': 63, 'source_file': 'hr_data.csv'}, page_content='employee_id: FINEMP1063\\nfull_name: Aadhya Kapoor\\nrole: Risk Analyst\\ndepartment: Risk\\nemail: aadhya.kapoor@fintechco.com\\nlocation: Jaipur\\ndate_of_birth: 1991-07-10\\ndate_of_joining: 2021-10-27\\nmanager_id: FINEMP1004\\nsalary: 1833641.2\\nleave_balance: 8\\nleaves_taken: 1\\nattendance_pct: 85.81\\nperformance_rating: 2\\nlast_review_date: 2024-06-29'),\n",
       " Document(id='9c3f814b-fd97-4e58-8736-5cc520055c88', metadata={'source': 'data/hr/hr_data.csv', 'source_file': 'hr_data.csv', 'row': 43, 'access_level': 'hr'}, page_content='employee_id: FINEMP1043\\nfull_name: Aadhya Singh\\nrole: Sales Manager\\ndepartment: Sales\\nemail: aadhya.singh@fintechco.com\\nlocation: Pune\\ndate_of_birth: 1984-05-24\\ndate_of_joining: 2024-06-02\\nmanager_id: FINEMP1000\\nsalary: 849227.01\\nleave_balance: 17\\nleaves_taken: 14\\nattendance_pct: 91.97\\nperformance_rating: 4\\nlast_review_date: 2024-02-16')]"
      ]
     },
     "execution_count": 62,
     "metadata": {},
     "output_type": "execute_result"
    }
   ],
   "source": [
    "vector_store.similarity_search(\"What is the salary of Aadhya Patel?\", k=5, filter={\"access_level\": \"hr\"})"
   ]
  },
  {
   "cell_type": "markdown",
   "id": "72d95e21",
   "metadata": {},
   "source": [
    "----------"
   ]
  },
  {
   "cell_type": "markdown",
   "id": "405f167a",
   "metadata": {},
   "source": [
    "## Retrieval Part"
   ]
  },
  {
   "cell_type": "markdown",
   "id": "6ceb00e0",
   "metadata": {},
   "source": [
    "### Prompt Template"
   ]
  },
  {
   "cell_type": "code",
   "execution_count": 93,
   "id": "eeab2b7c",
   "metadata": {},
   "outputs": [],
   "source": [
    "from langchain_core.prompts import PromptTemplate\n",
    "\n",
    "template = \"\"\"You are a helpful chatbot assistant of a fintech firm FinSolve. \n",
    "Your task is to answer questions from employees.\n",
    "Use the following pieces of context to answer the question at the end.\n",
    "If you don't know the answer, just say that you don't know, don't try to make up an answer.\n",
    "Use 3-5 sentences maximum and keep the answer as concise as possible.\n",
    "Always say \"thanks for asking!\" at the end of the answer. \n",
    "Also mention the source of the answer extracted from the context provided. Each context will have its metadata\n",
    "that contains source_file as source, add this source_file value as it is in the answer as the sources.\n",
    "For example if the 'source_file': 'hr_data.csv' then use 'hr_data.csv' as the sources.\n",
    "\n",
    "Context: {context}\n",
    "\n",
    "Question: {question}\n",
    "\n",
    "Helpful Answer:\"\"\"\n",
    "\n",
    "custom_rag_prompt = PromptTemplate.from_template(template)"
   ]
  },
  {
   "cell_type": "markdown",
   "id": "8ffacedc",
   "metadata": {},
   "source": [
    "### State"
   ]
  },
  {
   "cell_type": "code",
   "execution_count": 94,
   "id": "3cc087f7",
   "metadata": {},
   "outputs": [],
   "source": [
    "from typing import List\n",
    "from typing_extensions import Annotated, TypedDict, List\n",
    "from langchain_core.documents import Document\n",
    "from langgraph.graph import START, StateGraph\n",
    "\n",
    "# Desired schema for response\n",
    "class AnswerWithSources(TypedDict):\n",
    "    \"\"\"An answer to the question, with sources.\"\"\"\n",
    "\n",
    "    answer: str\n",
    "    sources: Annotated[\n",
    "        List[str],\n",
    "        ...,\n",
    "        \"List of sources (source_file) used to answer the question\",\n",
    "    ]\n",
    "\n",
    "\n",
    "class State(TypedDict):\n",
    "    question: str\n",
    "    access_level: str\n",
    "    context: List[Document]\n",
    "    answer: AnswerWithSources"
   ]
  },
  {
   "cell_type": "code",
   "execution_count": 95,
   "id": "0048ee89",
   "metadata": {},
   "outputs": [],
   "source": [
    "# Define application steps\n",
    "def retrieve(state: State):\n",
    "    query_filter = None\n",
    "    \n",
    "    # role based retrieval\n",
    "    if state[\"access_level\"] != \"c_level\":\n",
    "        query_filter = {\"access_level\": state[\"access_level\"]}\n",
    "        \n",
    "    retrieved_docs = vector_store.similarity_search(state[\"question\"], filter=query_filter)\n",
    "    return {\"context\": retrieved_docs}\n",
    "\n",
    "\n",
    "def generate(state: State):\n",
    "    docs_content = \"\\n\\n\".join(\n",
    "        f\"context {idx} \" + str(doc.metadata) + \" \" + doc.page_content for idx, doc in enumerate(state[\"context\"]))\n",
    "\n",
    "    \n",
    "    messages = custom_rag_prompt.invoke(\n",
    "        {\"question\": state[\"question\"], \"context\": docs_content})\n",
    "    \n",
    "    model_structured_output = model.with_structured_output(AnswerWithSources)\n",
    "    response = model_structured_output.invoke(messages)\n",
    "    return {\"answer\": response}"
   ]
  },
  {
   "cell_type": "code",
   "execution_count": 96,
   "id": "c4f92175",
   "metadata": {},
   "outputs": [],
   "source": [
    "graph_builder = StateGraph(State).add_sequence([retrieve, generate])\n",
    "graph_builder.add_edge(START, \"retrieve\")\n",
    "graph = graph_builder.compile()"
   ]
  },
  {
   "cell_type": "code",
   "execution_count": 97,
   "id": "b70d6cc4",
   "metadata": {},
   "outputs": [
    {
     "data": {
      "image/png": "[encoded data removed]",
      "text/plain": [
       "<IPython.core.display.Image object>"
      ]
     },
     "metadata": {},
     "output_type": "display_data"
    }
   ],
   "source": [
    "from IPython.display import Image, display\n",
    "\n",
    "display(Image(graph.get_graph().draw_mermaid_png()))"
   ]
  },
  {
   "cell_type": "markdown",
   "id": "b2d79eea",
   "metadata": {},
   "source": [
    "#### Sample prompts to try\n",
    "1. What is the salary of Aadhya Patel?\n",
    "2. Tell me about the backend architecture?\n",
    "3. Tell me about Myra Garg and how many leaves she has remaining?"
   ]
  },
  {
   "cell_type": "code",
   "execution_count": 104,
   "id": "b34565d6",
   "metadata": {},
   "outputs": [
    {
     "name": "stdout",
     "output_type": "stream",
     "text": [
      "Answer: {'answer': \"Aadhya Patel's salary is 1,332,478.37. Thanks for asking!\", 'sources': ['hr_data.csv']}\n"
     ]
    }
   ],
   "source": [
    "result = graph.invoke(\n",
    "    {\"question\": \"What is the salary of Aadhya Patel?\", \"access_level\": \"c_level\"})\n",
    "\n",
    "# print(f'Context: {result[\"context\"]}\\n\\n')\n",
    "print(f'Answer: {result[\"answer\"]}')"
   ]
  },
  {
   "cell_type": "markdown",
   "id": "ce47faa0",
   "metadata": {},
   "source": [
    "Earlier it was challenging to populate the `sources` field by LLM but one shot prompting helped, by giving it one example on how exactly it can extract that data from prompt."
   ]
  }
 ],
 "metadata": {
  "kernelspec": {
   "display_name": "training",
   "language": "python",
   "name": "python3"
  },
  "language_info": {
   "codemirror_mode": {
    "name": "ipython",
    "version": 3
   },
   "file_extension": ".py",
   "mimetype": "text/x-python",
   "name": "python",
   "nbconvert_exporter": "python",
   "pygments_lexer": "ipython3",
   "version": "3.12.10"
  }
 },
 "nbformat": 4,
 "nbformat_minor": 5
}
